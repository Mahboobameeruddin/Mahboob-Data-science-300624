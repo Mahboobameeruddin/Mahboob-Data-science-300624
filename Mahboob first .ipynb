{
 "cells": [
  {
   "cell_type": "code",
   "execution_count": null,
   "id": "2fa2163b-87b2-422f-9cbe-a0ad5c8a7656",
   "metadata": {},
   "outputs": [],
   "source": []
  },
  {
   "cell_type": "code",
   "execution_count": 12,
   "id": "e2fef4fa-15df-4146-ab90-43b97a57457e",
   "metadata": {},
   "outputs": [
    {
     "name": "stdout",
     "output_type": "stream",
     "text": [
      "Mahboob\n"
     ]
    }
   ],
   "source": [
    "print('Mahboob')"
   ]
  },
  {
   "cell_type": "code",
   "execution_count": null,
   "id": "3c05d49b-b47b-4360-9c8b-42b49db7d291",
   "metadata": {},
   "outputs": [],
   "source": []
  },
  {
   "cell_type": "code",
   "execution_count": 14,
   "id": "dfd1ad13-8cda-4d3b-ba47-994a986a24e4",
   "metadata": {},
   "outputs": [
    {
     "name": "stdout",
     "output_type": "stream",
     "text": [
      "The sum is: 8\n"
     ]
    }
   ],
   "source": [
    "# Define two numbers\n",
    "num1 = 5\n",
    "num2 = 3\n",
    "\n",
    "# Perform addition\n",
    "result = num1 + num2\n",
    "\n",
    "# Print the result\n",
    "print(\"The sum is:\", result)"
   ]
  },
  {
   "cell_type": "markdown",
   "id": "d96c7f0f-d521-4ac3-ab36-869d4eb54d01",
   "metadata": {},
   "source": [
    "# Assistant\n",
    "The error is occurring because the function `Print` is not defined in Python. Python is case-sensitive, so the correct function to use for printing is `print` (all lowercase).\n",
    "\n",
    "Would you like me to provide the corrected code?"
   ]
  },
  {
   "cell_type": "markdown",
   "id": "45d54e5f-43f9-40cc-b12b-3c3427501f13",
   "metadata": {},
   "source": [
    "# User\n",
    "print word Mahboob"
   ]
  },
  {
   "cell_type": "markdown",
   "id": "77757358-71d3-42c1-b990-d301c02eef65",
   "metadata": {},
   "source": [
    "# Assistant\n",
    "Got it! Here's the corrected code to print the word \"Mahboob\":\n"
   ]
  },
  {
   "cell_type": "code",
   "execution_count": 19,
   "id": "4ad04332-ed80-47d5-a336-e30080dbc191",
   "metadata": {},
   "outputs": [
    {
     "name": "stdout",
     "output_type": "stream",
     "text": [
      "Mahboob\n"
     ]
    }
   ],
   "source": [
    "print('Mahboob')"
   ]
  },
  {
   "cell_type": "markdown",
   "id": "688e2f82-4bd8-4329-8370-382998eb237b",
   "metadata": {},
   "source": [
    "# User\n",
    "create a code to do addition"
   ]
  },
  {
   "cell_type": "markdown",
   "id": "f457266c-3118-4c34-ae7c-5d53129003e6",
   "metadata": {},
   "source": [
    "# Assistant\n",
    "Certainly! Here's a simple code to perform addition in Python:\n"
   ]
  },
  {
   "cell_type": "code",
   "execution_count": 23,
   "id": "d5988678-817d-4077-ac3f-ff97678bc996",
   "metadata": {},
   "outputs": [
    {
     "name": "stdout",
     "output_type": "stream",
     "text": [
      "The sum is: 8\n"
     ]
    }
   ],
   "source": [
    "# Define two numbers\n",
    "num1 = 5\n",
    "num2 = 3\n",
    "\n",
    "# Perform addition\n",
    "result = num1 + num2\n",
    "\n",
    "# Print the result\n",
    "print(\"The sum is:\", result)"
   ]
  },
  {
   "cell_type": "markdown",
   "id": "9d4ecae5-1b24-4cf1-b366-1061f42687cc",
   "metadata": {},
   "source": [
    "# User\n",
    "how to save  this notebook"
   ]
  },
  {
   "cell_type": "markdown",
   "id": "a31ddbbc-c1fd-4950-8e2e-cbffe8166cbb",
   "metadata": {},
   "source": [
    "# Assistant\n",
    "To save the notebook, you can click on the \"Save\" icon in the toolbar at the top of the Jupyter Notebook interface. It typically looks like a floppy disk icon. Alternatively, you can use the keyboard shortcut \"Ctrl + S\" (or \"Cmd + S\" on Mac) to save the notebook."
   ]
  }
 ],
 "metadata": {
  "kernelspec": {
   "display_name": "Python 3 (ipykernel)",
   "language": "python",
   "name": "python3"
  },
  "language_info": {
   "codemirror_mode": {
    "name": "ipython",
    "version": 3
   },
   "file_extension": ".py",
   "mimetype": "text/x-python",
   "name": "python",
   "nbconvert_exporter": "python",
   "pygments_lexer": "ipython3",
   "version": "3.12.4"
  }
 },
 "nbformat": 4,
 "nbformat_minor": 5
}
